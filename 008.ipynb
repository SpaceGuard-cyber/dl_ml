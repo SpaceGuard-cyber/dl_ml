{
 "cells": [
  {
   "cell_type": "code",
   "execution_count": 21,
   "metadata": {},
   "outputs": [],
   "source": [
    "# заполнение пропусков в данных\n",
    "# библиотеки\n",
    "import pandas as pd\n",
    "import numpy as np\n",
    "from scipy.interpolate import interp1d\n",
    "from sklearn.model_selection import train_test_split\n",
    "from sklearn.linear_model import LinearRegression"
   ]
  },
  {
   "cell_type": "code",
   "execution_count": 22,
   "metadata": {},
   "outputs": [],
   "source": [
    "buildings = pd.read_csv(\"http://video.ittensive.com/machine-learning/ashrae/building_metadata.csv.gz\")\n",
    "weather = pd.read_csv(\"http://video.ittensive.com/machine-learning/ashrae/weather_train.csv.gz\")\n",
    "energy = pd.read_csv(\"http://video.ittensive.com/machine-learning/ashrae/train.0.csv.gz\")"
   ]
  },
  {
   "cell_type": "code",
   "execution_count": 23,
   "metadata": {},
   "outputs": [],
   "source": [
    "energy = energy[(energy[\"building_id\"]==0)]"
   ]
  },
  {
   "cell_type": "code",
   "execution_count": 24,
   "metadata": {},
   "outputs": [
    {
     "name": "stdout",
     "output_type": "stream",
     "text": [
      "<class 'pandas.core.frame.DataFrame'>\n",
      "RangeIndex: 8784 entries, 0 to 8783\n",
      "Data columns (total 13 columns):\n",
      " #   Column              Non-Null Count  Dtype  \n",
      "---  ------              --------------  -----  \n",
      " 0   timestamp           8784 non-null   object \n",
      " 1   building_id         8784 non-null   int64  \n",
      " 2   meter_reading       8784 non-null   float64\n",
      " 3   primary_use         8784 non-null   object \n",
      " 4   square_feet         8784 non-null   int64  \n",
      " 5   year_built          8784 non-null   float64\n",
      " 6   air_temperature     8781 non-null   float64\n",
      " 7   cloud_coverage      4954 non-null   float64\n",
      " 8   dew_temperature     8781 non-null   float64\n",
      " 9   precip_depth_1_hr   8783 non-null   float64\n",
      " 10  sea_level_pressure  8699 non-null   float64\n",
      " 11  wind_direction      8534 non-null   float64\n",
      " 12  wind_speed          8784 non-null   float64\n",
      "dtypes: float64(9), int64(2), object(2)\n",
      "memory usage: 892.2+ KB\n",
      "None\n"
     ]
    }
   ],
   "source": [
    "energy = pd.merge(left=energy, right=buildings, how=\"left\",\n",
    "                   left_on=\"building_id\", right_on=\"building_id\")\n",
    "energy = energy.set_index([\"timestamp\", \"site_id\"])\n",
    "weather = weather.set_index([\"timestamp\", \"site_id\"])\n",
    "energy = pd.merge(left=energy, right=weather, how=\"left\",\n",
    "                  left_index=True, right_index=True)\n",
    "energy.reset_index(inplace=True)\n",
    "energy = energy.drop(columns=[\"meter\", \"site_id\", \"floor_count\"], axis=1)\n",
    "del buildings\n",
    "del weather\n",
    "print (energy.info())"
   ]
  },
  {
   "cell_type": "code",
   "execution_count": 25,
   "metadata": {},
   "outputs": [],
   "source": [
    "def reduce_mem_usage (df):\n",
    "    start_mem = df.memory_usage().sum() / 1024**2    \n",
    "    for col in df.columns:\n",
    "        col_type = df[col].dtypes\n",
    "        if str(col_type)[:5] == \"float\":\n",
    "            c_min = df[col].min()\n",
    "            c_max = df[col].max()\n",
    "            if c_min > np.finfo(\"f2\").min and c_max < np.finfo(\"f2\").max:\n",
    "                df[col] = df[col].astype(np.float16)\n",
    "            elif c_min > np.finfo(\"f4\").min and c_max < np.finfo(\"f4\").max:\n",
    "                df[col] = df[col].astype(np.float32)\n",
    "            else:\n",
    "                df[col] = df[col].astype(np.float64)\n",
    "        elif str(col_type)[:3] == \"int\":\n",
    "            c_min = df[col].min()\n",
    "            c_max = df[col].max()\n",
    "            if c_min > np.iinfo(\"i1\").min and c_max < np.iinfo(\"i1\").max:\n",
    "                df[col] = df[col].astype(np.int8)\n",
    "            elif c_min > np.iinfo(\"i2\").min and c_max < np.iinfo(\"i2\").max:\n",
    "                df[col] = df[col].astype(np.int16)\n",
    "            elif c_min > np.iinfo(\"i4\").min and c_max < np.iinfo(\"i4\").max:\n",
    "                df[col] = df[col].astype(np.int32)\n",
    "            elif c_min > np.iinfo(\"i8\").min and c_max < np.iinfo(\"i8\").max:\n",
    "                df[col] = df[col].astype(np.int64)\n",
    "        elif col == \"timestamp\":\n",
    "            df[col] = pd.to_datetime(df[col])\n",
    "        elif str(col_type)[:8] != \"datetime\":\n",
    "            df[col] = df[col].astype(\"category\")\n",
    "    end_mem = df.memory_usage().sum() / 1024**2\n",
    "    print('Потребление памяти меньше на', round(start_mem - end_mem, 2), 'Мб (минус', round(100 * (start_mem - end_mem) / start_mem, 1), '%)')\n",
    "    return df"
   ]
  },
  {
   "cell_type": "code",
   "execution_count": 26,
   "metadata": {},
   "outputs": [
    {
     "name": "stdout",
     "output_type": "stream",
     "text": [
      "Потребление памяти меньше на 0.62 Мб (минус 71.1 %)\n"
     ]
    }
   ],
   "source": [
    "energy = reduce_mem_usage(energy)"
   ]
  },
  {
   "cell_type": "code",
   "execution_count": 27,
   "metadata": {},
   "outputs": [],
   "source": [
    "# интерполяция данных\n",
    "energy[\"precip_depth_1_hr\"] = energy[\"precip_depth_1_hr\"].apply(lambda x:x if x>0 else 0)\n",
    "interpolate_columns = [\"air_temperature\", \"dew_temperature\",\n",
    "                       \"cloud_coverage\", \"wind_speed\",\n",
    "                       \"precip_depth_1_hr\", \"sea_level_pressure\"]\n",
    "for col in interpolate_columns:\n",
    "    energy[col] = energy[col].interpolate(limit_direction='both',\n",
    "                            kind='cubic')"
   ]
  },
  {
   "cell_type": "code",
   "execution_count": 29,
   "metadata": {},
   "outputs": [
    {
     "name": "stdout",
     "output_type": "stream",
     "text": [
      "air_temperature Inf+NaN: 0\n",
      "dew_temperature Inf+NaN: 0\n",
      "cloud_coverage Inf+NaN: 0\n",
      "wind_speed Inf+NaN: 0\n",
      "precip_depth_1_hr Inf+NaN: 0\n",
      "sea_level_pressure Inf+NaN: 0\n"
     ]
    }
   ],
   "source": [
    "# проверка качества интерполяции\n",
    "pd.set_option(\"use_inf_as_na\", True)\n",
    "for col in interpolate_columns:\n",
    "    print(col, \"Inf+NaN:\", energy[col].isnull().sum())"
   ]
  },
  {
   "cell_type": "code",
   "execution_count": 30,
   "metadata": {},
   "outputs": [
    {
     "name": "stdout",
     "output_type": "stream",
     "text": [
      "               timestamp  building_id  meter_reading primary_use  square_feet  \\\n",
      "7552 2016-11-10 16:00:00            0        181.500   Education         7432   \n",
      "5852 2016-08-31 20:00:00            0        236.125   Education         7432   \n",
      "5398 2016-08-12 22:00:00            0        309.250   Education         7432   \n",
      "7568 2016-11-11 08:00:00            0        192.500   Education         7432   \n",
      "6635 2016-10-03 11:00:00            0        251.125   Education         7432   \n",
      "\n",
      "      year_built  air_temperature  cloud_coverage  dew_temperature  \\\n",
      "7552      2008.0        24.406250        2.000000        12.203125   \n",
      "5852      2008.0        28.906250        8.000000        23.906250   \n",
      "5398      2008.0        28.906250        5.199219        22.203125   \n",
      "7568      2008.0        13.898438        0.000000        12.203125   \n",
      "6635      2008.0        24.406250        6.332031        23.296875   \n",
      "\n",
      "      precip_depth_1_hr  sea_level_pressure  wind_direction  wind_speed  \n",
      "7552                0.0              1021.0            30.0    3.599609  \n",
      "5852                0.0              1012.0           230.0    5.101562  \n",
      "5398                0.0              1015.5             0.0    0.000000  \n",
      "7568                0.0              1019.5            10.0    2.099609  \n",
      "6635                0.0              1013.0            10.0    4.601562  \n"
     ]
    }
   ],
   "source": [
    "# разделение данных\n",
    "energy_train, energy_test = train_test_split(energy[energy[\"meter_reading\"] > 0], test_size=0.2)\n",
    "print(energy_train.head())\n"
   ]
  },
  {
   "cell_type": "code",
   "execution_count": 31,
   "metadata": {},
   "outputs": [
    {
     "name": "stdout",
     "output_type": "stream",
     "text": [
      "[ 2.66388817  3.78570262 -2.66543769 -2.07257617  0.17258061 -0.96963924] 1101.6054891140543\n"
     ]
    }
   ],
   "source": [
    "# линейная регрессия \n",
    "regression_columns = [\"meter_reading\", \"air_temperature\", \"dew_temperature\",\n",
    "                       \"cloud_coverage\", \"wind_speed\",\n",
    "                       \"precip_depth_1_hr\", \"sea_level_pressure\"]\n",
    "energy_train_lr = pd.DataFrame(energy_train,\n",
    "                                columns=regression_columns)\n",
    "y = energy_train_lr[\"meter_reading\"]\n",
    "x = energy_train_lr.drop(labels=[\"meter_reading\"], axis=1)\n",
    "model = LinearRegression().fit(x,y)\n",
    "print(model.coef_, model.intercept_)"
   ]
  },
  {
   "cell_type": "code",
   "execution_count": 33,
   "metadata": {},
   "outputs": [
    {
     "name": "stdout",
     "output_type": "stream",
     "text": [
      "Качество линейной регрессии 0.20973244345825146\n"
     ]
    }
   ],
   "source": [
    "# предсказание и оценка модели\n",
    "def calculate_model (x):\n",
    "    lr = np.sum([x[col] * model.coef_[i] for i, col in enumerate(regression_columns[1:])])\n",
    "    lr += model.intercept_\n",
    "    x[\"meter_reading_lr_q\"] = (np.log(1 + x.meter_reading) - np.log(1 + lr))**2\n",
    "    return x\n",
    "\n",
    "energy_test = energy_test.apply(calculate_model, axis=1, result_type=\"expand\")\n",
    "energy_test_lr_rmsle = np.sqrt(energy_test[\"meter_reading_lr_q\"].sum() / len(energy_test))\n",
    "print(\"Качество линейной регрессии\", energy_test_lr_rmsle)"
   ]
  }
 ],
 "metadata": {
  "interpreter": {
   "hash": "4a05974dda8ddfe0394b24af77345dd33a48d73352d1e07028f1706cc8863553"
  },
  "kernelspec": {
   "display_name": "Python 3.10.2 64-bit",
   "language": "python",
   "name": "python3"
  },
  "language_info": {
   "codemirror_mode": {
    "name": "ipython",
    "version": 3
   },
   "file_extension": ".py",
   "mimetype": "text/x-python",
   "name": "python",
   "nbconvert_exporter": "python",
   "pygments_lexer": "ipython3",
   "version": "3.10.2"
  },
  "orig_nbformat": 4
 },
 "nbformat": 4,
 "nbformat_minor": 2
}
